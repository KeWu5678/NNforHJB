{
 "cells": [
  {
   "cell_type": "code",
   "execution_count": 1,
   "id": "8b7463c8",
   "metadata": {},
   "outputs": [],
   "source": [
    "import sys\n",
    "import os\n",
    "from src.model import model\n",
    "from src.model_outerweights import model_outerweights\n",
    "from src.greedy_insertion import insertion\n",
    "import numpy as np\n",
    "from loguru import logger\n",
    "import torch"
   ]
  },
  {
   "cell_type": "markdown",
   "id": "dc4c2f23",
   "metadata": {},
   "source": [
    "Load the data that is generated from the open-loop optimization"
   ]
  },
  {
   "cell_type": "code",
   "execution_count": 2,
   "id": "35ff901c",
   "metadata": {},
   "outputs": [
    {
     "name": "stderr",
     "output_type": "stream",
     "text": [
      "\u001b[32m2025-08-04 09:23:21.149\u001b[0m | \u001b[1mINFO    \u001b[0m | \u001b[36m__main__\u001b[0m:\u001b[36m<module>\u001b[0m:\u001b[36m4\u001b[0m - \u001b[1mLoaded data with shape: (1800,), dtype: [('x', '<f8', (2,)), ('dv', '<f8', (2,)), ('v', '<f8')]\u001b[0m\n"
     ]
    }
   ],
   "source": [
    "# load the data\n",
    "path = '../data_result/raw_data/VDP_beta_0.1_grid_combined.npy'# Initialize the weights\n",
    "data = np.load(path)\n",
    "logger.info(f\"Loaded data with shape: {data.shape}, dtype: {data.dtype}\")"
   ]
  },
  {
   "cell_type": "markdown",
   "id": "f754af69",
   "metadata": {},
   "source": [
    "set up the testing parameter."
   ]
  },
  {
   "cell_type": "code",
   "execution_count": 20,
   "id": "026d8fa7",
   "metadata": {},
   "outputs": [],
   "source": [
    "n_neurons = 100\n",
    "weights = np.random.randn(n_neurons, 2) * 0.1\n",
    "bias = np.random.randn(n_neurons) * 0.1\n",
    "outer_weights = np.random.randn(n_neurons) * 0.1\n",
    "regularization = (5, 0.01)"
   ]
  },
  {
   "cell_type": "markdown",
   "id": "78da1f3f",
   "metadata": {},
   "source": [
    "The semi-smooth newton method works in general fine "
   ]
  },
  {
   "cell_type": "code",
   "execution_count": 18,
   "id": "b289993e",
   "metadata": {},
   "outputs": [
    {
     "name": "stdout",
     "output_type": "stream",
     "text": [
      "\u001b[32m2025-08-04 09:33:03\u001b[0m | \u001b[1mINFO    \u001b[0m | \u001b[36msrc.model\u001b[0m:\u001b[36m_configure_logger\u001b[0m:\u001b[36m82\u001b[0m - \u001b[1mVDPModel initialized\u001b[0m\n",
      "\u001b[32m2025-08-04 09:33:03\u001b[0m | \u001b[1mINFO    \u001b[0m | \u001b[36msrc.model\u001b[0m:\u001b[36mtrain\u001b[0m:\u001b[36m245\u001b[0m - \u001b[1mStarting network training session\u001b[0m\n",
      "\u001b[32m2025-08-04 09:33:03\u001b[0m | \u001b[1mINFO    \u001b[0m | \u001b[36msrc.model\u001b[0m:\u001b[36m_prepare_data\u001b[0m:\u001b[36m126\u001b[0m - \u001b[1mTraining set: 1620 samples, Validation set: 180 samples\u001b[0m\n",
      "\u001b[32m2025-08-04 09:33:03\u001b[0m | \u001b[1mINFO    \u001b[0m | \u001b[36msrc.model\u001b[0m:\u001b[36m_prepare_data\u001b[0m:\u001b[36m129\u001b[0m - \u001b[1mData ranges - x: [-3.00, 3.00], v: [0.00, 10.96], dv: [-13.19, 13.19]\u001b[0m\n",
      "\u001b[32m2025-08-04 09:33:03\u001b[0m | \u001b[1mINFO    \u001b[0m | \u001b[36msrc.model\u001b[0m:\u001b[36m_create_network\u001b[0m:\u001b[36m162\u001b[0m - \u001b[1mCreating network with 100 neurons\u001b[0m\n",
      "\u001b[32m2025-08-04 09:33:03\u001b[0m | \u001b[1mINFO    \u001b[0m | \u001b[36msrc.model\u001b[0m:\u001b[36m_setup_optimizer\u001b[0m:\u001b[36m176\u001b[0m - \u001b[1mUsing SSN optimizer with alpha=0.01, gamma=5\u001b[0m\n",
      "\u001b[32m2025-08-04 09:33:03\u001b[0m | \u001b[1mINFO    \u001b[0m | \u001b[36msrc.model\u001b[0m:\u001b[36mtrain\u001b[0m:\u001b[36m263\u001b[0m - \u001b[1mTraining model, saving to /Users/ruizhechao/Documents/NNforHJB/train_history\u001b[0m\n",
      "\u001b[32m2025-08-04 09:33:03\u001b[0m | \u001b[1mINFO    \u001b[0m | \u001b[36msrc.model\u001b[0m:\u001b[36mtrain\u001b[0m:\u001b[36m265\u001b[0m - \u001b[1mTraining hyperparameters: iterations=10000, batch_size=1620, display_every=1000\u001b[0m\n",
      "\u001b[32m2025-08-04 09:33:03\u001b[0m | \u001b[1mINFO    \u001b[0m | \u001b[36msrc.model\u001b[0m:\u001b[36mtrain\u001b[0m:\u001b[36m266\u001b[0m - \u001b[1mLoss weights: value=1.0, gradient=1.0\u001b[0m\n",
      "\u001b[32m2025-08-04 09:33:03\u001b[0m | \u001b[1mINFO    \u001b[0m | \u001b[36msrc.model\u001b[0m:\u001b[36mtrain\u001b[0m:\u001b[36m310\u001b[0m - \u001b[1mEpoch 0: Train Loss = 31.794406, Val Loss = 15.463310\u001b[0m\n",
      "\u001b[32m2025-08-04 09:33:08\u001b[0m | \u001b[1mINFO    \u001b[0m | \u001b[36msrc.model\u001b[0m:\u001b[36mtrain\u001b[0m:\u001b[36m310\u001b[0m - \u001b[1mEpoch 1000: Train Loss = 3.571309, Val Loss = 4.489390\u001b[0m\n",
      "\u001b[32m2025-08-04 09:33:13\u001b[0m | \u001b[1mINFO    \u001b[0m | \u001b[36msrc.model\u001b[0m:\u001b[36mtrain\u001b[0m:\u001b[36m310\u001b[0m - \u001b[1mEpoch 2000: Train Loss = 3.389983, Val Loss = 4.359106\u001b[0m\n",
      "\u001b[32m2025-08-04 09:33:18\u001b[0m | \u001b[1mINFO    \u001b[0m | \u001b[36msrc.model\u001b[0m:\u001b[36mtrain\u001b[0m:\u001b[36m310\u001b[0m - \u001b[1mEpoch 3000: Train Loss = 3.344334, Val Loss = 4.407737\u001b[0m\n",
      "\u001b[32m2025-08-04 09:33:24\u001b[0m | \u001b[1mINFO    \u001b[0m | \u001b[36msrc.model\u001b[0m:\u001b[36mtrain\u001b[0m:\u001b[36m310\u001b[0m - \u001b[1mEpoch 4000: Train Loss = 3.315010, Val Loss = 4.379769\u001b[0m\n",
      "\u001b[32m2025-08-04 09:33:29\u001b[0m | \u001b[1mINFO    \u001b[0m | \u001b[36msrc.model\u001b[0m:\u001b[36mtrain\u001b[0m:\u001b[36m310\u001b[0m - \u001b[1mEpoch 5000: Train Loss = 3.294770, Val Loss = 4.352121\u001b[0m\n",
      "\u001b[32m2025-08-04 09:33:34\u001b[0m | \u001b[1mINFO    \u001b[0m | \u001b[36msrc.model\u001b[0m:\u001b[36mtrain\u001b[0m:\u001b[36m310\u001b[0m - \u001b[1mEpoch 6000: Train Loss = 3.280693, Val Loss = 4.324715\u001b[0m\n",
      "\u001b[32m2025-08-04 09:33:39\u001b[0m | \u001b[1mINFO    \u001b[0m | \u001b[36msrc.model\u001b[0m:\u001b[36mtrain\u001b[0m:\u001b[36m310\u001b[0m - \u001b[1mEpoch 7000: Train Loss = 3.270668, Val Loss = 4.296619\u001b[0m\n",
      "\u001b[32m2025-08-04 09:33:45\u001b[0m | \u001b[1mINFO    \u001b[0m | \u001b[36msrc.model\u001b[0m:\u001b[36mtrain\u001b[0m:\u001b[36m310\u001b[0m - \u001b[1mEpoch 8000: Train Loss = 3.262209, Val Loss = 4.265186\u001b[0m\n",
      "\u001b[32m2025-08-04 09:33:50\u001b[0m | \u001b[1mINFO    \u001b[0m | \u001b[36msrc.model\u001b[0m:\u001b[36mtrain\u001b[0m:\u001b[36m310\u001b[0m - \u001b[1mEpoch 9000: Train Loss = 3.255597, Val Loss = 4.227999\u001b[0m\n",
      "\u001b[32m2025-08-04 09:33:55\u001b[0m | \u001b[1mINFO    \u001b[0m | \u001b[36msrc.model\u001b[0m:\u001b[36mtrain\u001b[0m:\u001b[36m324\u001b[0m - \u001b[1mFinal model saved to /Users/ruizhechao/Documents/NNforHJB/train_history/model_final.pt\u001b[0m\n",
      "\u001b[32m2025-08-04 09:33:55\u001b[0m | \u001b[1mINFO    \u001b[0m | \u001b[36msrc.model\u001b[0m:\u001b[36mtrain\u001b[0m:\u001b[36m355\u001b[0m - \u001b[1mTraining completed successfully\u001b[0m\n"
     ]
    }
   ],
   "source": [
    "# Using the new class interface\n",
    "vdp_model = model(data, torch.relu, 2.0, regularization, optimizer='SSN', loss_weights=(1.0, 1.0))\n",
    "model_result, weight, bias, output_weight = vdp_model.train(\n",
    "    inner_weights=weights, inner_bias=bias, \n",
    "    iterations=10000,\n",
    "    display_every=1000\n",
    ")"
   ]
  },
  {
   "cell_type": "code",
   "execution_count": 21,
   "id": "25d2d3a9",
   "metadata": {},
   "outputs": [
    {
     "name": "stdout",
     "output_type": "stream",
     "text": [
      "\u001b[32m2025-08-04 09:36:49\u001b[0m | \u001b[1mINFO    \u001b[0m | \u001b[36msrc.model_outerweights\u001b[0m:\u001b[36m_configure_logger\u001b[0m:\u001b[36m82\u001b[0m - \u001b[1mVDPModel (outer weights) initialized\u001b[0m\n",
      "\u001b[32m2025-08-04 09:36:49\u001b[0m | \u001b[1mINFO    \u001b[0m | \u001b[36msrc.model_outerweights\u001b[0m:\u001b[36mtrain\u001b[0m:\u001b[36m245\u001b[0m - \u001b[1mStarting network training session (outer weights only)\u001b[0m\n",
      "\u001b[32m2025-08-04 09:36:49\u001b[0m | \u001b[1mINFO    \u001b[0m | \u001b[36msrc.model_outerweights\u001b[0m:\u001b[36m_prepare_data\u001b[0m:\u001b[36m126\u001b[0m - \u001b[1mTraining set: 1620 samples, Validation set: 180 samples\u001b[0m\n",
      "\u001b[32m2025-08-04 09:36:49\u001b[0m | \u001b[1mINFO    \u001b[0m | \u001b[36msrc.model_outerweights\u001b[0m:\u001b[36m_prepare_data\u001b[0m:\u001b[36m129\u001b[0m - \u001b[1mData ranges - x: [-3.00, 3.00], v: [0.00, 10.96], dv: [-13.19, 13.19]\u001b[0m\n",
      "\u001b[32m2025-08-04 09:36:49\u001b[0m | \u001b[1mINFO    \u001b[0m | \u001b[36msrc.model_outerweights\u001b[0m:\u001b[36m_setup_optimizer\u001b[0m:\u001b[36m169\u001b[0m - \u001b[1mUsing SSN optimizer with alpha=0.01, gamma=5\u001b[0m\n",
      "\u001b[32m2025-08-04 09:36:49\u001b[0m | \u001b[1mINFO    \u001b[0m | \u001b[36msrc.model_outerweights\u001b[0m:\u001b[36mtrain\u001b[0m:\u001b[36m261\u001b[0m - \u001b[1mTraining model, saving to /Users/ruizhechao/Documents/NNforHJB/train_history\u001b[0m\n",
      "\u001b[32m2025-08-04 09:36:49\u001b[0m | \u001b[1mINFO    \u001b[0m | \u001b[36msrc.model_outerweights\u001b[0m:\u001b[36mtrain\u001b[0m:\u001b[36m263\u001b[0m - \u001b[1mTraining hyperparameters: iterations=10000, batch_size=1620, display_every=500\u001b[0m\n",
      "\u001b[32m2025-08-04 09:36:49\u001b[0m | \u001b[1mINFO    \u001b[0m | \u001b[36msrc.model_outerweights\u001b[0m:\u001b[36mtrain\u001b[0m:\u001b[36m264\u001b[0m - \u001b[1mLoss weights: value=1.0, gradient=0.0\u001b[0m\n",
      "\u001b[32m2025-08-04 09:36:49\u001b[0m | \u001b[1mINFO    \u001b[0m | \u001b[36msrc.model_outerweights\u001b[0m:\u001b[36mtrain\u001b[0m:\u001b[36m308\u001b[0m - \u001b[1mEpoch 0: Train Loss = 14.491521, Val Loss = 3.052950\u001b[0m\n",
      "\u001b[32m2025-08-04 09:36:52\u001b[0m | \u001b[1mINFO    \u001b[0m | \u001b[36msrc.model_outerweights\u001b[0m:\u001b[36mtrain\u001b[0m:\u001b[36m308\u001b[0m - \u001b[1mEpoch 500: Train Loss = 0.642316, Val Loss = 0.846658\u001b[0m\n",
      "\u001b[32m2025-08-04 09:36:54\u001b[0m | \u001b[1mINFO    \u001b[0m | \u001b[36msrc.model_outerweights\u001b[0m:\u001b[36mtrain\u001b[0m:\u001b[36m308\u001b[0m - \u001b[1mEpoch 1000: Train Loss = 0.610646, Val Loss = 0.833536\u001b[0m\n",
      "\u001b[32m2025-08-04 09:36:57\u001b[0m | \u001b[1mINFO    \u001b[0m | \u001b[36msrc.model_outerweights\u001b[0m:\u001b[36mtrain\u001b[0m:\u001b[36m308\u001b[0m - \u001b[1mEpoch 1500: Train Loss = 0.600481, Val Loss = 0.822640\u001b[0m\n",
      "\u001b[32m2025-08-04 09:36:59\u001b[0m | \u001b[1mINFO    \u001b[0m | \u001b[36msrc.model_outerweights\u001b[0m:\u001b[36mtrain\u001b[0m:\u001b[36m308\u001b[0m - \u001b[1mEpoch 2000: Train Loss = 0.594770, Val Loss = 0.811187\u001b[0m\n",
      "\u001b[32m2025-08-04 09:37:02\u001b[0m | \u001b[1mINFO    \u001b[0m | \u001b[36msrc.model_outerweights\u001b[0m:\u001b[36mtrain\u001b[0m:\u001b[36m308\u001b[0m - \u001b[1mEpoch 2500: Train Loss = 0.591942, Val Loss = 0.800165\u001b[0m\n",
      "\u001b[32m2025-08-04 09:37:04\u001b[0m | \u001b[1mINFO    \u001b[0m | \u001b[36msrc.model_outerweights\u001b[0m:\u001b[36mtrain\u001b[0m:\u001b[36m308\u001b[0m - \u001b[1mEpoch 3000: Train Loss = 0.590525, Val Loss = 0.790556\u001b[0m\n",
      "\u001b[32m2025-08-04 09:37:06\u001b[0m | \u001b[1mINFO    \u001b[0m | \u001b[36msrc.model_outerweights\u001b[0m:\u001b[36mtrain\u001b[0m:\u001b[36m308\u001b[0m - \u001b[1mEpoch 3500: Train Loss = 0.589271, Val Loss = 0.783336\u001b[0m\n",
      "\u001b[32m2025-08-04 09:37:09\u001b[0m | \u001b[1mINFO    \u001b[0m | \u001b[36msrc.model_outerweights\u001b[0m:\u001b[36mtrain\u001b[0m:\u001b[36m308\u001b[0m - \u001b[1mEpoch 4000: Train Loss = 0.588034, Val Loss = 0.777938\u001b[0m\n",
      "\u001b[32m2025-08-04 09:37:11\u001b[0m | \u001b[1mINFO    \u001b[0m | \u001b[36msrc.model_outerweights\u001b[0m:\u001b[36mtrain\u001b[0m:\u001b[36m308\u001b[0m - \u001b[1mEpoch 4500: Train Loss = 0.586784, Val Loss = 0.773796\u001b[0m\n",
      "\u001b[32m2025-08-04 09:37:13\u001b[0m | \u001b[1mINFO    \u001b[0m | \u001b[36msrc.model_outerweights\u001b[0m:\u001b[36mtrain\u001b[0m:\u001b[36m308\u001b[0m - \u001b[1mEpoch 5000: Train Loss = 0.585509, Val Loss = 0.770544\u001b[0m\n",
      "\u001b[32m2025-08-04 09:37:16\u001b[0m | \u001b[1mINFO    \u001b[0m | \u001b[36msrc.model_outerweights\u001b[0m:\u001b[36mtrain\u001b[0m:\u001b[36m308\u001b[0m - \u001b[1mEpoch 5500: Train Loss = 0.584205, Val Loss = 0.767992\u001b[0m\n",
      "\u001b[32m2025-08-04 09:37:18\u001b[0m | \u001b[1mINFO    \u001b[0m | \u001b[36msrc.model_outerweights\u001b[0m:\u001b[36mtrain\u001b[0m:\u001b[36m308\u001b[0m - \u001b[1mEpoch 6000: Train Loss = 0.582877, Val Loss = 0.766063\u001b[0m\n",
      "\u001b[32m2025-08-04 09:37:21\u001b[0m | \u001b[1mINFO    \u001b[0m | \u001b[36msrc.model_outerweights\u001b[0m:\u001b[36mtrain\u001b[0m:\u001b[36m308\u001b[0m - \u001b[1mEpoch 6500: Train Loss = 0.581539, Val Loss = 0.764687\u001b[0m\n",
      "\u001b[32m2025-08-04 09:37:23\u001b[0m | \u001b[1mINFO    \u001b[0m | \u001b[36msrc.model_outerweights\u001b[0m:\u001b[36mtrain\u001b[0m:\u001b[36m308\u001b[0m - \u001b[1mEpoch 7000: Train Loss = 0.580209, Val Loss = 0.763698\u001b[0m\n",
      "\u001b[32m2025-08-04 09:37:26\u001b[0m | \u001b[1mINFO    \u001b[0m | \u001b[36msrc.model_outerweights\u001b[0m:\u001b[36mtrain\u001b[0m:\u001b[36m308\u001b[0m - \u001b[1mEpoch 7500: Train Loss = 0.578880, Val Loss = 0.762881\u001b[0m\n",
      "\u001b[32m2025-08-04 09:37:28\u001b[0m | \u001b[1mINFO    \u001b[0m | \u001b[36msrc.model_outerweights\u001b[0m:\u001b[36mtrain\u001b[0m:\u001b[36m308\u001b[0m - \u001b[1mEpoch 8000: Train Loss = 0.577524, Val Loss = 0.762127\u001b[0m\n",
      "\u001b[32m2025-08-04 09:37:31\u001b[0m | \u001b[1mINFO    \u001b[0m | \u001b[36msrc.model_outerweights\u001b[0m:\u001b[36mtrain\u001b[0m:\u001b[36m308\u001b[0m - \u001b[1mEpoch 8500: Train Loss = 0.576111, Val Loss = 0.761633\u001b[0m\n",
      "\u001b[32m2025-08-04 09:37:33\u001b[0m | \u001b[1mINFO    \u001b[0m | \u001b[36msrc.model_outerweights\u001b[0m:\u001b[36mtrain\u001b[0m:\u001b[36m308\u001b[0m - \u001b[1mEpoch 9000: Train Loss = 0.574803, Val Loss = 0.761903\u001b[0m\n",
      "\u001b[32m2025-08-04 09:37:36\u001b[0m | \u001b[1mINFO    \u001b[0m | \u001b[36msrc.model_outerweights\u001b[0m:\u001b[36mtrain\u001b[0m:\u001b[36m308\u001b[0m - \u001b[1mEpoch 9500: Train Loss = 0.573832, Val Loss = 0.762935\u001b[0m\n",
      "\u001b[32m2025-08-04 09:37:38\u001b[0m | \u001b[1mINFO    \u001b[0m | \u001b[36msrc.model_outerweights\u001b[0m:\u001b[36mtrain\u001b[0m:\u001b[36m322\u001b[0m - \u001b[1mFinal model saved to /Users/ruizhechao/Documents/NNforHJB/train_history/model_outerweights_final.pt\u001b[0m\n",
      "\u001b[32m2025-08-04 09:37:38\u001b[0m | \u001b[1mINFO    \u001b[0m | \u001b[36msrc.model_outerweights\u001b[0m:\u001b[36mtrain\u001b[0m:\u001b[36m353\u001b[0m - \u001b[1mTraining completed successfully (outer weights only)\u001b[0m\n"
     ]
    }
   ],
   "source": [
    "vdp_model = model_outerweights(data, torch.relu, 2.0, regularization, optimizer='SSN', loss_weights=(1.0, 0.0))\n",
    "model_result, weight, bias, output_weight = vdp_model.train(\n",
    "    inner_weights=weights, inner_bias=bias, outer_weights=outer_weights,\n",
    "    iterations=10000,\n",
    "    display_every=500\n",
    ")"
   ]
  }
 ],
 "metadata": {
  "kernelspec": {
   "display_name": ".venv",
   "language": "python",
   "name": "python3"
  },
  "language_info": {
   "codemirror_mode": {
    "name": "ipython",
    "version": 3
   },
   "file_extension": ".py",
   "mimetype": "text/x-python",
   "name": "python",
   "nbconvert_exporter": "python",
   "pygments_lexer": "ipython3",
   "version": "3.9.6"
  }
 },
 "nbformat": 4,
 "nbformat_minor": 5
}
