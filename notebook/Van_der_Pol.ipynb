{
 "cells": [
  {
   "cell_type": "code",
   "execution_count": null,
   "id": "970c9857",
   "metadata": {},
   "outputs": [],
   "source": [
    "import sys\n",
    "sys.path.append('../src')\n",
    "\n",
    "import openloop_optimizer as op\n",
    "import numpy as np\n",
    "import numpy.polynomial.chebyshev as cheb\n",
    "import utils \n",
    "import datetime"
   ]
  },
  {
   "cell_type": "code",
   "execution_count": null,
   "id": "35ff901c",
   "metadata": {},
   "outputs": [],
   "source": [
    "beta = 0.1\n",
    "\n",
    "def VDP(t, y, u):\n",
    "    \"\"\"Define the Boundary value problem with control parameter u\"\"\"\n",
    "    return np.vstack([\n",
    "        y[1],\n",
    "        -y[0] + y[1] * (1 - y[0] ** 2) + u(t),\n",
    "        - 2 * y[0] + y[3] * (2 * y[0] * y[1] + 1),\n",
    "        - 2 * y[1] - y[2] - y[3] * (1 -y[0] ** 2)\n",
    "    ])\n",
    "\n",
    "def bc(ya, yb):\n",
    "    \"\"\"Boundary conditions\"\"\"\n",
    "    return np.array([\n",
    "        ya[0] - ini[0],\n",
    "        ya[1] - ini[1],\n",
    "        yb[2],\n",
    "        yb[3]\n",
    "    ])\n",
    "\n",
    "def gradient(u, p):\n",
    "    if len(p) != len(u):\n",
    "        raise ValueError(\"p and u must have the same length\")\n",
    "    else:\n",
    "        n = len(p)\n",
    "        grad = np.zeros(n)\n",
    "    for i in range(n):\n",
    "        grad[i] = p[i] + 2 * beta * u[i]\n",
    "    return grad\n",
    "\n",
    "def V(grid, u, y1, y2):\n",
    "    return utils.L2(grid, u) * beta + 0.5 * (utils.L2(grid, y1) + utils.L2(grid, y2))\n",
    "\n",
    "def gen_bc(ini_val):\n",
    "    \"\"\"Generate boundary conditions based on initial values\"\"\"\n",
    "    def bc_func(ya, yb):\n",
    "        return np.array([\n",
    "            ya[0] - ini_val[0],\n",
    "            ya[1] - ini_val[1],\n",
    "            yb[2],\n",
    "            yb[3]\n",
    "        ])\n",
    "    return bc_func\n"
   ]
  }
 ],
 "metadata": {
  "kernelspec": {
   "display_name": ".venv",
   "language": "python",
   "name": "python3"
  },
  "language_info": {
   "codemirror_mode": {
    "name": "ipython",
    "version": 3
   },
   "file_extension": ".py",
   "mimetype": "text/x-python",
   "name": "python",
   "nbconvert_exporter": "python",
   "pygments_lexer": "ipython3",
   "version": "3.9.6"
  }
 },
 "nbformat": 4,
 "nbformat_minor": 5
}
